{
 "cells": [
  {
   "cell_type": "code",
   "execution_count": 10,
   "id": "56fadc2a",
   "metadata": {},
   "outputs": [
    {
     "data": {
      "text/plain": [
       "Index(['OBJECTID', 'ACCIDENT_NO', 'ABS_CODE', 'ACCIDENT_STATUS',\n",
       "       'ACCIDENT_DATE', 'ACCIDENT_TIME', 'ALCOHOLTIME', 'ACCIDENT_TYPE',\n",
       "       'DAY_OF_WEEK', 'DCA_CODE', 'HIT_RUN_FLAG', 'LIGHT_CONDITION',\n",
       "       'POLICE_ATTEND', 'ROAD_GEOMETRY', 'SEVERITY', 'SPEED_ZONE',\n",
       "       'RUN_OFFROAD', 'NODE_ID', 'LONGITUDE', 'LATITUDE', 'NODE_TYPE',\n",
       "       'LGA_NAME', 'REGION_NAME', 'VICGRID_X', 'VICGRID_Y', 'TOTAL_PERSONS',\n",
       "       'INJ_OR_FATAL', 'FATALITY', 'SERIOUSINJURY', 'OTHERINJURY',\n",
       "       'NONINJURED', 'MALES', 'FEMALES', 'BICYCLIST', 'PASSENGER', 'DRIVER',\n",
       "       'PEDESTRIAN', 'PILLION', 'MOTORIST', 'UNKNOWN', 'PED_CYCLIST_5_12',\n",
       "       'PED_CYCLIST_13_18', 'OLD_PEDESTRIAN', 'OLD_DRIVER', 'YOUNG_DRIVER',\n",
       "       'ALCOHOL_RELATED', 'UNLICENCSED', 'NO_OF_VEHICLES', 'HEAVYVEHICLE',\n",
       "       'PASSENGERVEHICLE', 'MOTORCYCLE', 'PUBLICVEHICLE', 'DEG_URBAN_NAME',\n",
       "       'DEG_URBAN_ALL', 'LGA_NAME_ALL', 'REGION_NAME_ALL', 'SRNS', 'SRNS_ALL',\n",
       "       'RMA', 'RMA_ALL', 'DIVIDED', 'DIVIDED_ALL', 'STAT_DIV_NAME'],\n",
       "      dtype='object')"
      ]
     },
     "execution_count": 10,
     "metadata": {},
     "output_type": "execute_result"
    }
   ],
   "source": [
    "import pandas as pd\n",
    "df = pd.read_csv(\"victoriaaccidents.csv\")\n",
    "df.columns"
   ]
  },
  {
   "cell_type": "code",
   "execution_count": 11,
   "id": "fc2be575",
   "metadata": {},
   "outputs": [
    {
     "data": {
      "text/plain": [
       "RangeIndex(start=0, stop=74908, step=1)"
      ]
     },
     "execution_count": 11,
     "metadata": {},
     "output_type": "execute_result"
    }
   ],
   "source": [
    "df.index "
   ]
  },
  {
   "cell_type": "code",
   "execution_count": 12,
   "id": "d0e7bcef",
   "metadata": {},
   "outputs": [],
   "source": [
    "df.index = [f'row_{i}' for i in range(len(df.index))]"
   ]
  },
  {
   "cell_type": "code",
   "execution_count": 17,
   "id": "e3413990",
   "metadata": {},
   "outputs": [
    {
     "data": {
      "text/plain": [
       "row_0      Monday\n",
       "row_1     Tuesday\n",
       "row_2     Tuesday\n",
       "row_3     Tuesday\n",
       "row_4     Tuesday\n",
       "row_5     Tuesday\n",
       "row_6     Tuesday\n",
       "row_7     Tuesday\n",
       "row_8     Tuesday\n",
       "row_9     Tuesday\n",
       "row_10    Tuesday\n",
       "row_11    Tuesday\n",
       "row_12    Tuesday\n",
       "row_13    Tuesday\n",
       "row_14    Tuesday\n",
       "Name: DAY_OF_WEEK, dtype: object"
      ]
     },
     "execution_count": 17,
     "metadata": {},
     "output_type": "execute_result"
    }
   ],
   "source": [
    "df['DAY_OF_WEEK'].iloc[0:15]"
   ]
  },
  {
   "cell_type": "code",
   "execution_count": 5,
   "id": "bcdc5e87",
   "metadata": {},
   "outputs": [
    {
     "name": "stdout",
     "output_type": "stream",
     "text": [
      "Requirement already satisfied: wxPython in c:\\users\\keibe\\miniconda3\\lib\\site-packages (4.2.1)\n",
      "Requirement already satisfied: numpy in c:\\users\\keibe\\miniconda3\\lib\\site-packages (from wxPython) (1.25.2)\n",
      "Requirement already satisfied: six in c:\\users\\keibe\\miniconda3\\lib\\site-packages (from wxPython) (1.16.0)\n",
      "Requirement already satisfied: pillow in c:\\users\\keibe\\miniconda3\\lib\\site-packages (from wxPython) (10.0.1)\n"
     ]
    }
   ],
   "source": [
    "!pip install wxPython"
   ]
  },
  {
   "cell_type": "code",
   "execution_count": 1,
   "id": "defa1d07",
   "metadata": {},
   "outputs": [],
   "source": [
    "import wx"
   ]
  },
  {
   "cell_type": "code",
   "execution_count": 18,
   "id": "73f2544b",
   "metadata": {},
   "outputs": [
    {
     "ename": "PyNoAppError",
     "evalue": "The wx.App object must be created first!",
     "output_type": "error",
     "traceback": [
      "\u001b[1;31m---------------------------------------------------------------------------\u001b[0m",
      "\u001b[1;31mPyNoAppError\u001b[0m                              Traceback (most recent call last)",
      "Cell \u001b[1;32mIn[18], line 15\u001b[0m\n\u001b[0;32m     12\u001b[0m app \u001b[38;5;241m=\u001b[39m wx\u001b[38;5;241m.\u001b[39mApp()\n\u001b[0;32m     14\u001b[0m \u001b[38;5;66;03m# Create an instance of your MyFrame class\u001b[39;00m\n\u001b[1;32m---> 15\u001b[0m frame \u001b[38;5;241m=\u001b[39m \u001b[43mMyFrame\u001b[49m\u001b[43m(\u001b[49m\u001b[38;5;28;43;01mNone\u001b[39;49;00m\u001b[43m)\u001b[49m\n\u001b[0;32m     17\u001b[0m \u001b[38;5;66;03m# Set the title of the frame\u001b[39;00m\n\u001b[0;32m     18\u001b[0m frame\u001b[38;5;241m.\u001b[39mSetTitle(\u001b[38;5;124m\"\u001b[39m\u001b[38;5;124mHello World\u001b[39m\u001b[38;5;124m\"\u001b[39m)\n",
      "File \u001b[1;32m~\\OneDrive\\Documents\\Griffith Uni\\2023T2\\2810ICT\\group130-2810ICT-2023-Assignment\\wxform.py:22\u001b[0m, in \u001b[0;36mMyFrame1.__init__\u001b[1;34m(self, parent)\u001b[0m\n\u001b[0;32m     21\u001b[0m \u001b[38;5;28;01mdef\u001b[39;00m \u001b[38;5;21m__init__\u001b[39m( \u001b[38;5;28mself\u001b[39m, parent ):\n\u001b[1;32m---> 22\u001b[0m \t\u001b[43mwx\u001b[49m\u001b[38;5;241;43m.\u001b[39;49m\u001b[43mFrame\u001b[49m\u001b[38;5;241;43m.\u001b[39;49m\u001b[38;5;21;43m__init__\u001b[39;49m\u001b[43m \u001b[49m\u001b[43m(\u001b[49m\u001b[43m \u001b[49m\u001b[38;5;28;43mself\u001b[39;49m\u001b[43m,\u001b[49m\u001b[43m \u001b[49m\u001b[43mparent\u001b[49m\u001b[43m,\u001b[49m\u001b[43m \u001b[49m\u001b[38;5;28;43mid\u001b[39;49m\u001b[43m \u001b[49m\u001b[38;5;241;43m=\u001b[39;49m\u001b[43m \u001b[49m\u001b[43mwx\u001b[49m\u001b[38;5;241;43m.\u001b[39;49m\u001b[43mID_ANY\u001b[49m\u001b[43m,\u001b[49m\u001b[43m \u001b[49m\u001b[43mtitle\u001b[49m\u001b[43m \u001b[49m\u001b[38;5;241;43m=\u001b[39;49m\u001b[43m \u001b[49m\u001b[43mwx\u001b[49m\u001b[38;5;241;43m.\u001b[39;49m\u001b[43mEmptyString\u001b[49m\u001b[43m,\u001b[49m\u001b[43m \u001b[49m\u001b[43mpos\u001b[49m\u001b[43m \u001b[49m\u001b[38;5;241;43m=\u001b[39;49m\u001b[43m \u001b[49m\u001b[43mwx\u001b[49m\u001b[38;5;241;43m.\u001b[39;49m\u001b[43mDefaultPosition\u001b[49m\u001b[43m,\u001b[49m\u001b[43m \u001b[49m\u001b[43msize\u001b[49m\u001b[43m \u001b[49m\u001b[38;5;241;43m=\u001b[39;49m\u001b[43m \u001b[49m\u001b[43mwx\u001b[49m\u001b[38;5;241;43m.\u001b[39;49m\u001b[43mSize\u001b[49m\u001b[43m(\u001b[49m\u001b[43m \u001b[49m\u001b[38;5;241;43m626\u001b[39;49m\u001b[43m,\u001b[49m\u001b[38;5;241;43m365\u001b[39;49m\u001b[43m \u001b[49m\u001b[43m)\u001b[49m\u001b[43m,\u001b[49m\u001b[43m \u001b[49m\u001b[43mstyle\u001b[49m\u001b[43m \u001b[49m\u001b[38;5;241;43m=\u001b[39;49m\u001b[43m \u001b[49m\u001b[43mwx\u001b[49m\u001b[38;5;241;43m.\u001b[39;49m\u001b[43mDEFAULT_FRAME_STYLE\u001b[49m\u001b[38;5;241;43m|\u001b[39;49m\u001b[43mwx\u001b[49m\u001b[38;5;241;43m.\u001b[39;49m\u001b[43mTAB_TRAVERSAL\u001b[49m\u001b[43m \u001b[49m\u001b[43m)\u001b[49m\n\u001b[0;32m     24\u001b[0m \t\u001b[38;5;28mself\u001b[39m\u001b[38;5;241m.\u001b[39mSetSizeHints( wx\u001b[38;5;241m.\u001b[39mDefaultSize, wx\u001b[38;5;241m.\u001b[39mDefaultSize )\n\u001b[0;32m     26\u001b[0m \tbSizer1 \u001b[38;5;241m=\u001b[39m wx\u001b[38;5;241m.\u001b[39mBoxSizer( wx\u001b[38;5;241m.\u001b[39mVERTICAL )\n",
      "\u001b[1;31mPyNoAppError\u001b[0m: The wx.App object must be created first!"
     ]
    }
   ],
   "source": [
    "import pandas as pd\n",
    "import wx\n",
    "import wx.xrc\n",
    "import wx.adv\n",
    "import wx.grid\n",
    "\n",
    "from wxform import MyFrame1 as MyFrame \n",
    "df = pd.read_csv(\"victoriaaccidents.csv\")\n",
    "\n",
    "if __name__ == \"__main__\":\n",
    "    # Create a wx.App object\n",
    "    app = wx.App()\n",
    "\n",
    "    # Create an instance of your MyFrame class\n",
    "    frame = MyFrame(None)\n",
    "\n",
    "    # Set the title of the frame\n",
    "    frame.SetTitle(\"Hello World\")\n",
    "\n",
    "    # Show the frame\n",
    "    frame.Show()\n",
    "\n",
    "    # Start the wxPython event loop\n",
    "    app.MainLoop()\n",
    "\n",
    "\n"
   ]
  },
  {
   "cell_type": "code",
   "execution_count": null,
   "id": "0bc8db06",
   "metadata": {},
   "outputs": [],
   "source": []
  }
 ],
 "metadata": {
  "kernelspec": {
   "display_name": "Python 3 (ipykernel)",
   "language": "python",
   "name": "python3"
  },
  "language_info": {
   "codemirror_mode": {
    "name": "ipython",
    "version": 3
   },
   "file_extension": ".py",
   "mimetype": "text/x-python",
   "name": "python",
   "nbconvert_exporter": "python",
   "pygments_lexer": "ipython3",
   "version": "3.10.12"
  }
 },
 "nbformat": 4,
 "nbformat_minor": 5
}
